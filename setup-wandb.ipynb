{
 "cells": [
  {
   "cell_type": "code",
   "execution_count": 13,
   "id": "81eb874e-602f-4859-b7d3-d794b03077de",
   "metadata": {
    "scrolled": true
   },
   "outputs": [
    {
     "name": "stdout",
     "output_type": "stream",
     "text": [
      "\u001b[34m\u001b[1mwandb\u001b[0m: Appending key for api.wandb.ai to your netrc file: /root/.netrc\n"
     ]
    }
   ],
   "source": [
    "# Set up WANDB\n",
    "!source ~/secrets.dat; wandb login --relogin $WANDB_API_KEY;"
   ]
  },
  {
   "cell_type": "code",
   "execution_count": null,
   "id": "2d42351e-e842-46da-be1d-ff417a9b2d12",
   "metadata": {},
   "outputs": [],
   "source": [
    "!cd video2dataset; python -m venv .venv; pip install -r requirements.txt; pip install -e .; "
   ]
  },
  {
   "cell_type": "code",
   "execution_count": 3,
   "id": "13317a9c-0b51-4192-8cc2-7fb9dd07dc3c",
   "metadata": {},
   "outputs": [
    {
     "name": "stdout",
     "output_type": "stream",
     "text": [
      "/usr/local/lib/python3.10/dist-packages/torchvision/io/image.py:13: UserWarning: Failed to load image Python extension: '/usr/local/lib/python3.10/dist-packages/torchvision/image.so: undefined symbol: _ZN3c1017RegisterOperatorsD1Ev'If you don't plan on using image functionality from `torchvision.io`, you can ignore this warning. Otherwise, there might be something wrong with your environment. Did you have `libjpeg` or `libpng` installed before building `torchvision` from source?\n",
      "  warn(\n",
      "Starting the downloading of this file\n",
      "Sharding file number 1 of 1 called /workspace/VideoTraining/datasets/test.csv\n",
      "0it [00:00, ?it/s]File sharded in 1 shards\n",
      "Downloading starting now, check your bandwidth speed (with bwm-ng)your cpu (with htop), and your disk usage (with iotop)!\n",
      "/usr/local/lib/python3.10/dist-packages/torchvision/io/image.py:13: UserWarning: Failed to load image Python extension: '/usr/local/lib/python3.10/dist-packages/torchvision/image.so: undefined symbol: _ZN3c1017RegisterOperatorsD1Ev'If you don't plan on using image functionality from `torchvision.io`, you can ignore this warning. Otherwise, there might be something wrong with your environment. Did you have `libjpeg` or `libpng` installed before building `torchvision` from source?\n",
      "  warn(\n",
      "/usr/local/lib/python3.10/dist-packages/torchvision/io/image.py:13: UserWarning: Failed to load image Python extension: '/usr/local/lib/python3.10/dist-packages/torchvision/image.so: undefined symbol: _ZN3c1017RegisterOperatorsD1Ev'If you don't plan on using image functionality from `torchvision.io`, you can ignore this warning. Otherwise, there might be something wrong with your environment. Did you have `libjpeg` or `libpng` installed before building `torchvision` from source?\n",
      "  warn(\n",
      "\u001b[34m\u001b[1mwandb\u001b[0m: Currently logged in as: \u001b[33midgallagher\u001b[0m (\u001b[33migprojects\u001b[0m). Use \u001b[1m`wandb login --relogin`\u001b[0m to force relogin\n",
      "\u001b[34m\u001b[1mwandb\u001b[0m: Tracking run with wandb version 0.17.3\n",
      "\u001b[34m\u001b[1mwandb\u001b[0m: Run data is saved locally in \u001b[35m\u001b[1m/workspace/VideoTraining/wandb/run-20240701_160150-kqdca1k9\u001b[0m\n",
      "\u001b[34m\u001b[1mwandb\u001b[0m: Run \u001b[1m`wandb offline`\u001b[0m to turn off syncing.\n",
      "\u001b[34m\u001b[1mwandb\u001b[0m: Syncing run \u001b[33mfiery-river-71\u001b[0m\n",
      "\u001b[34m\u001b[1mwandb\u001b[0m: ⭐️ View project at \u001b[34m\u001b[4mhttps://wandb.ai/igprojects/video2dataset\u001b[0m\n",
      "\u001b[34m\u001b[1mwandb\u001b[0m: 🚀 View run at \u001b[34m\u001b[4mhttps://wandb.ai/igprojects/video2dataset/runs/kqdca1k9\u001b[0m\n",
      "1it [00:07,  7.63s/it]\n",
      "worker  - success: 0.000 - failed to download: 0.000 - failed to resize: 1.000 - videos per sec: 5 - bytes per sec: 9047423 - count: 20\n",
      "total   - success: 0.000 - failed to download: 0.000 - failed to resize: 1.000 - videos per sec: 5 - bytes per sec: 9047423 - count: 20\n",
      "\u001b[34m\u001b[1mwandb\u001b[0m:                                                                                \n",
      "\u001b[34m\u001b[1mwandb\u001b[0m: \n",
      "\u001b[34m\u001b[1mwandb\u001b[0m: Run history:\n",
      "\u001b[34m\u001b[1mwandb\u001b[0m:        total/bytes_per_sec ▁\n",
      "\u001b[34m\u001b[1mwandb\u001b[0m:                total/count ▁\n",
      "\u001b[34m\u001b[1mwandb\u001b[0m:   total/failed_to_download ▁\n",
      "\u001b[34m\u001b[1mwandb\u001b[0m:  total/failed_to_subsample ▁\n",
      "\u001b[34m\u001b[1mwandb\u001b[0m:              total/success ▁\n",
      "\u001b[34m\u001b[1mwandb\u001b[0m:          total/vid_per_sec ▁\n",
      "\u001b[34m\u001b[1mwandb\u001b[0m:       worker/bytes_per_sec ▁\n",
      "\u001b[34m\u001b[1mwandb\u001b[0m:               worker/count ▁\n",
      "\u001b[34m\u001b[1mwandb\u001b[0m:  worker/failed_to_download ▁\n",
      "\u001b[34m\u001b[1mwandb\u001b[0m: worker/failed_to_subsample ▁\n",
      "\u001b[34m\u001b[1mwandb\u001b[0m:             worker/success ▁\n",
      "\u001b[34m\u001b[1mwandb\u001b[0m:         worker/vid_per_sec ▁\n",
      "\u001b[34m\u001b[1mwandb\u001b[0m: \n",
      "\u001b[34m\u001b[1mwandb\u001b[0m: Run summary:\n",
      "\u001b[34m\u001b[1mwandb\u001b[0m:        total/bytes_per_sec 9047422.62328\n",
      "\u001b[34m\u001b[1mwandb\u001b[0m:                total/count 20\n",
      "\u001b[34m\u001b[1mwandb\u001b[0m:   total/failed_to_download 0.0\n",
      "\u001b[34m\u001b[1mwandb\u001b[0m:  total/failed_to_subsample 1.0\n",
      "\u001b[34m\u001b[1mwandb\u001b[0m:              total/success 0.0\n",
      "\u001b[34m\u001b[1mwandb\u001b[0m:          total/vid_per_sec 5.25808\n",
      "\u001b[34m\u001b[1mwandb\u001b[0m:       worker/bytes_per_sec 9047422.62328\n",
      "\u001b[34m\u001b[1mwandb\u001b[0m:               worker/count 20\n",
      "\u001b[34m\u001b[1mwandb\u001b[0m:  worker/failed_to_download 0.0\n",
      "\u001b[34m\u001b[1mwandb\u001b[0m: worker/failed_to_subsample 1.0\n",
      "\u001b[34m\u001b[1mwandb\u001b[0m:             worker/success 0.0\n",
      "\u001b[34m\u001b[1mwandb\u001b[0m:         worker/vid_per_sec 5.25808\n",
      "\u001b[34m\u001b[1mwandb\u001b[0m: \n",
      "\u001b[34m\u001b[1mwandb\u001b[0m: 🚀 View run \u001b[33mfiery-river-71\u001b[0m at: \u001b[34m\u001b[4mhttps://wandb.ai/igprojects/video2dataset/runs/kqdca1k9\u001b[0m\n",
      "\u001b[34m\u001b[1mwandb\u001b[0m: ⭐️ View project at: \u001b[34m\u001b[4mhttps://wandb.ai/igprojects/video2dataset\u001b[0m\n",
      "\u001b[34m\u001b[1mwandb\u001b[0m: Synced 5 W&B file(s), 1 media file(s), 1 artifact file(s) and 0 other file(s)\n",
      "\u001b[34m\u001b[1mwandb\u001b[0m: Find logs at: \u001b[35m\u001b[1m./wandb/run-20240701_160150-kqdca1k9/logs\u001b[0m\n",
      "\u001b[34m\u001b[1mwandb\u001b[0m: \u001b[33mWARNING\u001b[0m The new W&B backend becomes opt-out in version 0.18.0; try it out with `wandb.require(\"core\")`! See https://wandb.me/wandb-core for more information.\n"
     ]
    }
   ],
   "source": [
    "!video2dataset --tmp_dir=\"./tmp\" --url_list=\"./datasets/test.csv\" --input_format=\"csv\" --output-format=\"webdataset\" --output_folder=\"./data/webvid10m-test\" --url_col=\"contentUrl\" --caption_col=\"name\" --save_additional_columns=\"[videoid]\" --enable_wandb=True --config=\"./configs/default.yaml\""
   ]
  },
  {
   "cell_type": "code",
   "execution_count": null,
   "id": "716e6c48-f477-4397-ae78-d5e50954101c",
   "metadata": {},
   "outputs": [],
   "source": []
  }
 ],
 "metadata": {
  "kernelspec": {
   "display_name": "Python 3 (ipykernel)",
   "language": "python",
   "name": "python3"
  },
  "language_info": {
   "codemirror_mode": {
    "name": "ipython",
    "version": 3
   },
   "file_extension": ".py",
   "mimetype": "text/x-python",
   "name": "python",
   "nbconvert_exporter": "python",
   "pygments_lexer": "ipython3",
   "version": "3.10.12"
  }
 },
 "nbformat": 4,
 "nbformat_minor": 5
}
