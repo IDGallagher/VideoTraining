{
 "cells": [
  {
   "cell_type": "code",
   "execution_count": 3,
   "id": "49dbd2b9-4a39-49bd-a5e1-ce5fc0dddd85",
   "metadata": {
    "tags": []
   },
   "outputs": [
    {
     "name": "stdout",
     "output_type": "stream",
     "text": [
      "Traceback (most recent call last):\n",
      "  File \"/workspace/VideoTraining/./AnimateDiff/train.py\", line 4, in <module>\n",
      "    import wandb\n",
      "ModuleNotFoundError: No module named 'wandb'\n"
     ]
    }
   ],
   "source": [
    "!python ./AnimateDiff/train.py --config \".\\configs\\ad-training.yaml\""
   ]
  },
  {
   "cell_type": "code",
   "execution_count": null,
   "id": "852fca65-660d-46f4-8287-defa6c9bb8aa",
   "metadata": {},
   "outputs": [],
   "source": []
  }
 ],
 "metadata": {
  "kernelspec": {
   "display_name": "Python 3 (ipykernel)",
   "language": "python",
   "name": "python3"
  },
  "language_info": {
   "codemirror_mode": {
    "name": "ipython",
    "version": 3
   },
   "file_extension": ".py",
   "mimetype": "text/x-python",
   "name": "python",
   "nbconvert_exporter": "python",
   "pygments_lexer": "ipython3",
   "version": "3.10.12"
  }
 },
 "nbformat": 4,
 "nbformat_minor": 5
}
