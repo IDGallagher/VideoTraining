{
 "cells": [
  {
   "cell_type": "code",
   "execution_count": null,
   "metadata": {},
   "outputs": [],
   "source": [
    "!. ./video2dataset/.venv/bin/activate; video2dataset --tmp_dir=\"./tmp\" --url_list=\"s3://webvid-10m/train.csv\" --input_format=\"csv\" --output-format=\"webdataset\" --output_folder=\"s3://webvid-10m/train\" --url_col=\"contentUrl\" --caption_col=\"name\" --save_additional_columns=\"[videoid]\" --enable_wandb=True --config=\"./configs/default.yaml\""
   ]
  }
 ],
 "metadata": {
  "language_info": {
   "name": "python"
  }
 },
 "nbformat": 4,
 "nbformat_minor": 2
}
