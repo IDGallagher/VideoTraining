{
 "cells": [
  {
   "cell_type": "code",
   "execution_count": null,
   "metadata": {},
   "outputs": [],
   "source": [
    "!. ./video2dataset/.venv/bin/activate; video2dataset --tmp_dir=\"./tmp\" --url_list=\"s3://webvid-10m/val.csv\" --input_format=\"csv\" --output-format=\"webdataset\" --output_folder=\"s3://webvid-10m/val\" --url_col=\"contentUrl\" --caption_col=\"name\" --save_additional_columns=\"[videoid]\" --enable_wandb=True --config=\"./configs/default.yaml\""
   ]
  }
 ],
 "metadata": {
  "kernelspec": {
   "display_name": "Python 3 (ipykernel)",
   "language": "python",
   "name": "python3"
  },
  "language_info": {
   "codemirror_mode": {
    "name": "ipython",
    "version": 3
   },
   "file_extension": ".py",
   "mimetype": "text/x-python",
   "name": "python",
   "nbconvert_exporter": "python",
   "pygments_lexer": "ipython3",
   "version": "3.10.12"
  }
 },
 "nbformat": 4,
 "nbformat_minor": 4
}
