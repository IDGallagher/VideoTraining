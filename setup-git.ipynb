{
 "cells": [
  {
   "cell_type": "markdown",
   "id": "6168c852-fdb6-49ab-977f-d698e22f1aad",
   "metadata": {},
   "source": [
    "For pushing to git, run the cell below and configure github with the generated ssh key. "
   ]
  },
  {
   "cell_type": "code",
   "execution_count": null,
   "id": "2950b379-307d-4640-8ced-a73ab326ae32",
   "metadata": {},
   "outputs": [],
   "source": [
    "!source ~/secrets.dat; git remote set-url origin git@github.com:IDGallagher/VideoTraining.git; git config --global user.name $GIT_USERNAME; git config --global user.email $GIT_EMAIL; ssh-keygen -t rsa -C $GIT_EMAIL -N '' -f ~/.ssh/id_rsa <<< y; tail ~/.ssh/id_rsa.pub;"
   ]
  },
  {
   "cell_type": "markdown",
   "id": "ad4e3380-8481-4475-96f6-12bbc53c18f5",
   "metadata": {},
   "source": [
    "Run the following commands to commit changes and push:\n",
    "\n",
    "git add --all && git commit -m \"comment\"\n",
    "git push"
   ]
  }
 ],
 "metadata": {
  "kernelspec": {
   "display_name": "Python 3 (ipykernel)",
   "language": "python",
   "name": "python3"
  },
  "language_info": {
   "codemirror_mode": {
    "name": "ipython",
    "version": 3
   },
   "file_extension": ".py",
   "mimetype": "text/x-python",
   "name": "python",
   "nbconvert_exporter": "python",
   "pygments_lexer": "ipython3",
   "version": "3.10.12"
  }
 },
 "nbformat": 4,
 "nbformat_minor": 5
}
