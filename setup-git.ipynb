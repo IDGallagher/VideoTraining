{
 "cells": [
  {
   "cell_type": "markdown",
   "id": "6168c852-fdb6-49ab-977f-d698e22f1aad",
   "metadata": {},
   "source": [
    "For pushing to git, run the cell below and configure github with the generated ssh key. "
   ]
  },
  {
   "cell_type": "code",
   "execution_count": 2,
   "id": "2950b379-307d-4640-8ced-a73ab326ae32",
   "metadata": {
    "tags": []
   },
   "outputs": [
    {
     "name": "stdout",
     "output_type": "stream",
     "text": [
      "Generating public/private rsa key pair.\n",
      "Your identification has been saved in /root/.ssh/id_rsa\n",
      "Your public key has been saved in /root/.ssh/id_rsa.pub\n",
      "The key fingerprint is:\n",
      "SHA256:Sc1rK16YPTtyLcElahAg6CCjk2lebQnhE+JU6u2zKD0 idgallagher@gmail.com\n",
      "The key's randomart image is:\n",
      "+---[RSA 3072]----+\n",
      "| +o+o.           |\n",
      "|B +o. .  o       |\n",
      "|=* oo ... o      |\n",
      "|*o...+.. ....    |\n",
      "|oo...  .Sooo     |\n",
      "| ..     o=o.     |\n",
      "| . o   .+ =o     |\n",
      "|. E o  ..o+o.    |\n",
      "|.. o    .o.o     |\n",
      "+----[SHA256]-----+\n",
      "ssh-rsa AAAAB3NzaC1yc2EAAAADAQABAAABgQDbTAYvWOaewsNHI89nYxdEmQkxmyc8v6lc+ChwyA+sLZRyISUWDZlJPbMiQ0ho/oGpdYjs2q9hW1xBEamff+/5XPN+B4kUgMyFql5mHww/LxAq15iXGspdrM9wBxF6uJ24HWICCzl13tkdiZpxEW87N5X3rlbEydnTBuLGBZQ8djTa8OCouOvhetMutkiUc+O7+QXQA0knGHUT6+8jvSEF80yi7P5RR0VWqzG4bot7vdriDkdg7Iyw397mP5zNDittyPW4pUUI/iXFpiI+07Fdtk06HexhnOn2F3zXkiMwNQISuA0ALcs9tAqlaPr8TkyTxAWD+SZvfVrI6MxYUSFF4VTKA6FI4J/3StPD42M8U0yCA3okFkjZPZwKPcn9lbljLPPo+89zAgKQlHSnKgjzMOeYKMSF1qUfW5hb2bhJmLl4wzk1vGBp83M2oJ5l/su60Vh9TNcqZUaPcttxf8IK5QN5xb4mhjhaalIPPx8R5sdMGLaI3zioP5CWIGfAdDs= idgallagher@gmail.com\n"
     ]
    }
   ],
   "source": [
    "!source ~/secrets.dat; git remote set-url origin git@github.com:IDGallagher/VideoTraining.git; git config --global user.name $GIT_USERNAME; git config --global user.email $GIT_EMAIL; ssh-keygen -t rsa -C $GIT_EMAIL -N '' -f ~/.ssh/id_rsa <<< y; tail ~/.ssh/id_rsa.pub;"
   ]
  },
  {
   "cell_type": "markdown",
   "id": "ad4e3380-8481-4475-96f6-12bbc53c18f5",
   "metadata": {},
   "source": [
    "Run the following commands to commit changes and push:\n",
    "\n",
    "git add --all && git commit -m \"runpod changes\"\n",
    "git push"
   ]
  }
 ],
 "metadata": {
  "kernelspec": {
   "display_name": "Python 3 (ipykernel)",
   "language": "python",
   "name": "python3"
  },
  "language_info": {
   "codemirror_mode": {
    "name": "ipython",
    "version": 3
   },
   "file_extension": ".py",
   "mimetype": "text/x-python",
   "name": "python",
   "nbconvert_exporter": "python",
   "pygments_lexer": "ipython3",
   "version": "3.10.12"
  }
 },
 "nbformat": 4,
 "nbformat_minor": 5
}
